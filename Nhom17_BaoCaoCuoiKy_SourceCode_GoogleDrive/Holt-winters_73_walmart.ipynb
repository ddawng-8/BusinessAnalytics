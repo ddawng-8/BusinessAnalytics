{
 "cells": [
  {
   "cell_type": "code",
   "execution_count": 1,
   "id": "1a991c4c",
   "metadata": {},
   "outputs": [],
   "source": [
    "import pandas as pd\n",
    "import numpy as np\n",
    "import matplotlib.pyplot as plt\n",
    "from statsmodels.tsa.holtwinters import ExponentialSmoothing\n",
    "from sklearn.metrics import mean_squared_error,mean_absolute_error\n",
    "\n",
    "# Load the dataset\n",
    "data_url = 'https://raw.githubusercontent.com/huy164/datasets/master/walmart_stock_price.csv'\n",
    "df = pd.read_csv(data_url)\n",
    "\n",
    "\n"
   ]
  },
  {
   "cell_type": "code",
   "execution_count": 2,
   "id": "0e6f9f75",
   "metadata": {},
   "outputs": [
    {
     "data": {
      "text/html": [
       "<div>\n",
       "<style scoped>\n",
       "    .dataframe tbody tr th:only-of-type {\n",
       "        vertical-align: middle;\n",
       "    }\n",
       "\n",
       "    .dataframe tbody tr th {\n",
       "        vertical-align: top;\n",
       "    }\n",
       "\n",
       "    .dataframe thead th {\n",
       "        text-align: right;\n",
       "    }\n",
       "</style>\n",
       "<table border=\"1\" class=\"dataframe\">\n",
       "  <thead>\n",
       "    <tr style=\"text-align: right;\">\n",
       "      <th></th>\n",
       "      <th>Date</th>\n",
       "      <th>Close</th>\n",
       "    </tr>\n",
       "  </thead>\n",
       "  <tbody>\n",
       "    <tr>\n",
       "      <th>0</th>\n",
       "      <td>1972-08-25</td>\n",
       "      <td>0.064453</td>\n",
       "    </tr>\n",
       "    <tr>\n",
       "      <th>1</th>\n",
       "      <td>1972-08-28</td>\n",
       "      <td>0.064209</td>\n",
       "    </tr>\n",
       "    <tr>\n",
       "      <th>2</th>\n",
       "      <td>1972-08-29</td>\n",
       "      <td>0.063477</td>\n",
       "    </tr>\n",
       "    <tr>\n",
       "      <th>3</th>\n",
       "      <td>1972-08-30</td>\n",
       "      <td>0.063477</td>\n",
       "    </tr>\n",
       "    <tr>\n",
       "      <th>4</th>\n",
       "      <td>1972-08-31</td>\n",
       "      <td>0.062500</td>\n",
       "    </tr>\n",
       "    <tr>\n",
       "      <th>...</th>\n",
       "      <td>...</td>\n",
       "      <td>...</td>\n",
       "    </tr>\n",
       "    <tr>\n",
       "      <th>12486</th>\n",
       "      <td>2022-03-02</td>\n",
       "      <td>136.160004</td>\n",
       "    </tr>\n",
       "    <tr>\n",
       "      <th>12487</th>\n",
       "      <td>2022-03-03</td>\n",
       "      <td>139.289993</td>\n",
       "    </tr>\n",
       "    <tr>\n",
       "      <th>12488</th>\n",
       "      <td>2022-03-04</td>\n",
       "      <td>142.820007</td>\n",
       "    </tr>\n",
       "    <tr>\n",
       "      <th>12489</th>\n",
       "      <td>2022-03-07</td>\n",
       "      <td>141.669998</td>\n",
       "    </tr>\n",
       "    <tr>\n",
       "      <th>12490</th>\n",
       "      <td>2022-03-07</td>\n",
       "      <td>141.669998</td>\n",
       "    </tr>\n",
       "  </tbody>\n",
       "</table>\n",
       "<p>12491 rows × 2 columns</p>\n",
       "</div>"
      ],
      "text/plain": [
       "            Date       Close\n",
       "0     1972-08-25    0.064453\n",
       "1     1972-08-28    0.064209\n",
       "2     1972-08-29    0.063477\n",
       "3     1972-08-30    0.063477\n",
       "4     1972-08-31    0.062500\n",
       "...          ...         ...\n",
       "12486 2022-03-02  136.160004\n",
       "12487 2022-03-03  139.289993\n",
       "12488 2022-03-04  142.820007\n",
       "12489 2022-03-07  141.669998\n",
       "12490 2022-03-07  141.669998\n",
       "\n",
       "[12491 rows x 2 columns]"
      ]
     },
     "execution_count": 2,
     "metadata": {},
     "output_type": "execute_result"
    }
   ],
   "source": [
    "df['Date'] = pd.to_datetime(df['Date'])\n",
    "df"
   ]
  },
  {
   "cell_type": "code",
   "execution_count": 3,
   "id": "272f8e35",
   "metadata": {},
   "outputs": [],
   "source": [
    "start_date =  pd.to_datetime('2010-01-01')\n",
    "end_date =  pd.to_datetime('2022-12-31')\n",
    "df = df[(df['Date'] >= start_date) & (df['Date'] <= end_date)]\n",
    "\n"
   ]
  },
  {
   "cell_type": "code",
   "execution_count": 4,
   "id": "46eb9b8b",
   "metadata": {},
   "outputs": [],
   "source": [
    "df = df[['Close']]\n",
    "df = df.dropna() # Drop missing values\n",
    "df = df.reset_index(drop=True) # Reset the index\n",
    "\n",
    "# Split the dataset\n",
    "train_size = int(len(df) * 0.7)\n",
    "test_size = int(len(df) * 0.3)\n",
    "# validate_size = len(df) - train_size - test_size\n",
    "\n",
    "train_data = df[:train_size]['Close']\n",
    "test_data = df[train_size:train_size+test_size]['Close']\n",
    "# validate_data = df[train_size+test_size:]['Close']\n"
   ]
  },
  {
   "cell_type": "code",
   "execution_count": 5,
   "id": "ac50d93f",
   "metadata": {},
   "outputs": [
    {
     "data": {
      "text/plain": [
       "0       54.230000\n",
       "1       53.689999\n",
       "2       53.570000\n",
       "3       53.599998\n",
       "4       53.330002\n",
       "          ...    \n",
       "2141    84.510002\n",
       "2142    85.930000\n",
       "2143    87.209999\n",
       "2144    86.529999\n",
       "2145    86.519997\n",
       "Name: Close, Length: 2146, dtype: float64"
      ]
     },
     "execution_count": 5,
     "metadata": {},
     "output_type": "execute_result"
    }
   ],
   "source": [
    "train_data"
   ]
  },
  {
   "cell_type": "code",
   "execution_count": 6,
   "id": "c3f339d7",
   "metadata": {},
   "outputs": [
    {
     "data": {
      "text/plain": [
       "2146     87.699997\n",
       "2147     87.639999\n",
       "2148     88.190002\n",
       "2149     88.070000\n",
       "2150     87.720001\n",
       "           ...    \n",
       "3060    135.990005\n",
       "3061    136.160004\n",
       "3062    139.289993\n",
       "3063    142.820007\n",
       "3064    141.669998\n",
       "Name: Close, Length: 919, dtype: float64"
      ]
     },
     "execution_count": 6,
     "metadata": {},
     "output_type": "execute_result"
    }
   ],
   "source": [
    "test_data"
   ]
  },
  {
   "cell_type": "code",
   "execution_count": 7,
   "id": "33c62715",
   "metadata": {},
   "outputs": [
    {
     "name": "stdout",
     "output_type": "stream",
     "text": [
      "Test RMSE: 33.279774824057995\n",
      "Test MAPE: 22.657921760085227\n",
      "Test MAE: 29.63169178254944\n"
     ]
    }
   ],
   "source": [
    "# Build the Holt-Winters model\n",
    "model = ExponentialSmoothing(train_data, trend='add', seasonal='add', seasonal_periods=5)\n",
    "model_fit = model.fit()\n",
    "\n",
    "# Predict for the test and validate sets\n",
    "test_predictions = model_fit.predict(start=test_data.index[0], end=test_data.index[-1])\n",
    "\n",
    "# Calculate RMSE for test and validate sets\n",
    "test_rmse = np.sqrt(mean_squared_error(test_data, test_predictions))\n",
    "\n",
    "\n",
    "# Calculate the Mean Absolute Percentage Error (MAPE)\n",
    "test_mape = np.mean(np.abs((test_data - test_predictions) / test_data) * 100)\n",
    "\n",
    "# Mean Absolute Error (MAE)\n",
    "test_mae = mean_absolute_error(test_data, test_predictions)\n",
    "\n",
    "print(\"Test RMSE:\", test_rmse)\n",
    "print(\"Test MAPE:\", test_mape)\n",
    "print(\"Test MAE:\", test_mae)"
   ]
  },
  {
   "cell_type": "code",
   "execution_count": 8,
   "id": "594cfdcc",
   "metadata": {},
   "outputs": [
    {
     "name": "stdout",
     "output_type": "stream",
     "text": [
      "Predicted closing prices for the next 30 days:\n",
      "3066    100.365928\n",
      "3067    100.367514\n",
      "3068    100.449172\n",
      "3069    100.445796\n",
      "3070    100.458712\n",
      "3071    100.441262\n",
      "3072    100.442848\n",
      "3073    100.524507\n",
      "3074    100.521131\n",
      "3075    100.534046\n",
      "3076    100.516597\n",
      "3077    100.518182\n",
      "3078    100.599841\n",
      "3079    100.596465\n",
      "3080    100.609380\n",
      "3081    100.591931\n",
      "3082    100.593517\n",
      "3083    100.675175\n",
      "3084    100.671799\n",
      "3085    100.684715\n",
      "3086    100.667265\n",
      "3087    100.668851\n",
      "3088    100.750510\n",
      "3089    100.747134\n",
      "3090    100.760049\n",
      "3091    100.742600\n",
      "3092    100.744185\n",
      "3093    100.825844\n",
      "3094    100.822468\n",
      "3095    100.835383\n",
      "3096    100.817934\n",
      "dtype: float64\n"
     ]
    }
   ],
   "source": [
    "# Bonus 30 index\n",
    "last_index =  df.index[-1]\n",
    "last_data = pd.RangeIndex(start=last_index+1, stop=last_index+32, step=1)\n",
    "\n",
    "# Predict the closing prices for the next 30 days\n",
    "y_next_30_days = model_fit.predict(last_index+1, last_index+31)\n",
    "\n",
    "# Print the predicted closing prices for the next 30 days\n",
    "print('Predicted closing prices for the next 30 days:')\n",
    "print(y_next_30_days)"
   ]
  },
  {
   "cell_type": "code",
   "execution_count": 9,
   "id": "2556b183",
   "metadata": {},
   "outputs": [
    {
     "data": {
      "text/plain": [
       "[<matplotlib.lines.Line2D at 0x1e130d36e60>]"
      ]
     },
     "execution_count": 9,
     "metadata": {},
     "output_type": "execute_result"
    },
    {
     "data": {
      "image/png": "[encoded data removed]",
      "text/plain": [
       "<Figure size 640x480 with 1 Axes>"
      ]
     },
     "metadata": {},
     "output_type": "display_data"
    }
   ],
   "source": [
    "plt.plot(last_data, y_next_30_days)"
   ]
  },
  {
   "cell_type": "code",
   "execution_count": 10,
   "id": "a987c60e",
   "metadata": {},
   "outputs": [
    {
     "data": {
      "image/png": "[encoded data removed]",
      "text/plain": [
       "<Figure size 640x480 with 1 Axes>"
      ]
     },
     "metadata": {},
     "output_type": "display_data"
    }
   ],
   "source": [
    "plt.plot(train_data.index, train_data)\n",
    "plt.plot(test_data.index, test_data)\n",
    "# plt.plot(validate_data.index, validate_data)\n",
    "plt.plot(test_data.index, test_predictions)\n",
    "# plt.plot(validate_data.index, validate_predictions)\n",
    "plt.plot(last_data, y_next_30_days)\n",
    "plt.legend(['Train data', 'Test data', 'Test Predictions','Next 30 days'])\n",
    "plt.show()"
   ]
  },
  {
   "cell_type": "code",
   "execution_count": null,
   "id": "2f18ecec",
   "metadata": {},
   "outputs": [],
   "source": []
  }
 ],
 "metadata": {
  "kernelspec": {
   "display_name": "Python 3 (ipykernel)",
   "language": "python",
   "name": "python3"
  },
  "language_info": {
   "codemirror_mode": {
    "name": "ipython",
    "version": 3
   },
   "file_extension": ".py",
   "mimetype": "text/x-python",
   "name": "python",
   "nbconvert_exporter": "python",
   "pygments_lexer": "ipython3",
   "version": "3.10.3"
  }
 },
 "nbformat": 4,
 "nbformat_minor": 5
}
